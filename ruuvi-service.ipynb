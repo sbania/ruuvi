{
 "cells": [
  {
   "cell_type": "code",
   "execution_count": null,
   "metadata": {},
   "outputs": [
    {
     "name": "stderr",
     "output_type": "stream",
     "text": [
      " * Running on http://localhost:9000/ (Press CTRL+C to quit)\n",
      "127.0.0.1 - - [12/Nov/2019 17:44:24] \"\u001b[37mGET /data/datos.csv HTTP/1.1\u001b[0m\" 200 -\n",
      "127.0.0.1 - - [12/Nov/2019 17:44:46] \"\u001b[37mPOST /registrar HTTP/1.1\u001b[0m\" 200 -\n",
      "127.0.0.1 - - [12/Nov/2019 17:45:02] \"\u001b[37mPOST /registrar HTTP/1.1\u001b[0m\" 200 -\n",
      "127.0.0.1 - - [12/Nov/2019 17:45:04] \"\u001b[37mPOST /registrar HTTP/1.1\u001b[0m\" 200 -\n",
      "127.0.0.1 - - [12/Nov/2019 17:45:06] \"\u001b[37mPOST /registrar HTTP/1.1\u001b[0m\" 200 -\n",
      "127.0.0.1 - - [12/Nov/2019 17:45:08] \"\u001b[37mPOST /registrar HTTP/1.1\u001b[0m\" 200 -\n",
      "127.0.0.1 - - [12/Nov/2019 17:45:10] \"\u001b[37mPOST /registrar HTTP/1.1\u001b[0m\" 200 -\n",
      "127.0.0.1 - - [12/Nov/2019 17:45:12] \"\u001b[37mPOST /registrar HTTP/1.1\u001b[0m\" 200 -\n",
      "127.0.0.1 - - [12/Nov/2019 17:45:14] \"\u001b[37mPOST /registrar HTTP/1.1\u001b[0m\" 200 -\n",
      "127.0.0.1 - - [12/Nov/2019 17:45:16] \"\u001b[37mPOST /registrar HTTP/1.1\u001b[0m\" 200 -\n",
      "127.0.0.1 - - [12/Nov/2019 17:45:18] \"\u001b[37mPOST /registrar HTTP/1.1\u001b[0m\" 200 -\n",
      "127.0.0.1 - - [12/Nov/2019 17:47:26] \"\u001b[37mPOST /registrar HTTP/1.1\u001b[0m\" 200 -\n",
      "127.0.0.1 - - [12/Nov/2019 17:47:35] \"\u001b[37mPOST /registrar HTTP/1.1\u001b[0m\" 200 -\n",
      "127.0.0.1 - - [12/Nov/2019 17:47:37] \"\u001b[37mPOST /registrar HTTP/1.1\u001b[0m\" 200 -\n",
      "127.0.0.1 - - [12/Nov/2019 17:47:39] \"\u001b[37mPOST /registrar HTTP/1.1\u001b[0m\" 200 -\n",
      "127.0.0.1 - - [12/Nov/2019 17:47:41] \"\u001b[37mPOST /registrar HTTP/1.1\u001b[0m\" 200 -\n",
      "127.0.0.1 - - [12/Nov/2019 17:47:43] \"\u001b[37mPOST /registrar HTTP/1.1\u001b[0m\" 200 -\n",
      "127.0.0.1 - - [12/Nov/2019 17:47:45] \"\u001b[37mPOST /registrar HTTP/1.1\u001b[0m\" 200 -\n",
      "127.0.0.1 - - [12/Nov/2019 17:47:47] \"\u001b[37mPOST /registrar HTTP/1.1\u001b[0m\" 200 -\n",
      "127.0.0.1 - - [12/Nov/2019 17:47:49] \"\u001b[37mPOST /registrar HTTP/1.1\u001b[0m\" 200 -\n",
      "127.0.0.1 - - [12/Nov/2019 17:47:51] \"\u001b[37mPOST /registrar HTTP/1.1\u001b[0m\" 200 -\n",
      "127.0.0.1 - - [12/Nov/2019 17:47:53] \"\u001b[37mPOST /registrar HTTP/1.1\u001b[0m\" 200 -\n",
      "127.0.0.1 - - [12/Nov/2019 17:49:20] \"\u001b[37mPOST /registrar HTTP/1.1\u001b[0m\" 200 -\n",
      "127.0.0.1 - - [12/Nov/2019 17:53:06] \"\u001b[37mPOST /registrar HTTP/1.1\u001b[0m\" 200 -\n",
      "127.0.0.1 - - [12/Nov/2019 17:53:17] \"\u001b[37mPOST /registrar HTTP/1.1\u001b[0m\" 200 -\n",
      "127.0.0.1 - - [12/Nov/2019 17:53:28] \"\u001b[37mPOST /registrar HTTP/1.1\u001b[0m\" 200 -\n",
      "127.0.0.1 - - [12/Nov/2019 17:53:39] \"\u001b[37mPOST /registrar HTTP/1.1\u001b[0m\" 200 -\n",
      "127.0.0.1 - - [12/Nov/2019 17:53:50] \"\u001b[37mPOST /registrar HTTP/1.1\u001b[0m\" 200 -\n",
      "127.0.0.1 - - [12/Nov/2019 17:54:01] \"\u001b[37mPOST /registrar HTTP/1.1\u001b[0m\" 200 -\n",
      "127.0.0.1 - - [12/Nov/2019 17:54:12] \"\u001b[37mPOST /registrar HTTP/1.1\u001b[0m\" 200 -\n",
      "127.0.0.1 - - [12/Nov/2019 17:54:23] \"\u001b[37mPOST /registrar HTTP/1.1\u001b[0m\" 200 -\n",
      "127.0.0.1 - - [12/Nov/2019 17:54:55] \"\u001b[37mPOST /registrar HTTP/1.1\u001b[0m\" 200 -\n",
      "127.0.0.1 - - [12/Nov/2019 17:55:15] \"\u001b[37mPOST /registrar HTTP/1.1\u001b[0m\" 200 -\n",
      "127.0.0.1 - - [12/Nov/2019 17:55:51] \"\u001b[37mPOST /registrar HTTP/1.1\u001b[0m\" 200 -\n",
      "127.0.0.1 - - [12/Nov/2019 17:56:32] \"\u001b[37mPOST /registrar HTTP/1.1\u001b[0m\" 200 -\n",
      "127.0.0.1 - - [12/Nov/2019 18:11:13] \"\u001b[37mPOST /registrar HTTP/1.1\u001b[0m\" 200 -\n",
      "127.0.0.1 - - [12/Nov/2019 18:13:37] \"\u001b[37mPOST /registrar HTTP/1.1\u001b[0m\" 200 -\n",
      "127.0.0.1 - - [12/Nov/2019 18:13:40] \"\u001b[37mPOST /registrar HTTP/1.1\u001b[0m\" 200 -\n",
      "127.0.0.1 - - [12/Nov/2019 18:17:51] \"\u001b[37mPOST /registrar HTTP/1.1\u001b[0m\" 200 -\n"
     ]
    }
   ],
   "source": [
    "# Esta celda contiene la application FLASK\n",
    "# Que implementa el servicio FIU\n",
    "# Puede ser ejecutada localmente para debuguear\n",
    "\n",
    "from werkzeug.wrappers import Request, Response\n",
    "from flask import Flask, redirect, url_for, request, send_from_directory\n",
    "import json\n",
    "import os\n",
    "import datetime\n",
    "\n",
    "app = Flask(__name__)\n",
    "\n",
    "@app.route(\"/\")\n",
    "def echo():\n",
    "    return \"El servicio FIU esta activo!\"\n",
    "\n",
    "@app.route('/registrar', methods=['POST']) \n",
    "def registrar():\n",
    "    t = datetime.datetime.utcnow()\n",
    "    PM10 = request.form['temperature']\n",
    "    PM25 = request.form['pressure']\n",
    "    f = open(\"data/datos.csv\", \"a\")\n",
    "    f.write(str(t) + ',' + PM25 + ',' + PM10 + '\\n') \n",
    "    return str(t) + '-' + PM25 + '-' + PM10\n",
    "\n",
    "@app.route(\"/reiniciar\")\n",
    "def reiniciar():\n",
    "    f = open(\"data/datos.csv\", \"w\")\n",
    "    f.write('Time' + ',' + 'temperature' + ',' + 'pressure' + '\\n') \n",
    "    return \"Los datos fueron eliminados\"\n",
    "\n",
    "@app.route('/data/<path:path>', methods=['GET'])\n",
    "def serve_file_in_dir(path):\n",
    "     if not os.path.isfile(os.path.join('data', path)):\n",
    "        path = os.path.join(path, 'index.html')\n",
    "     return send_from_directory('data', path)\n",
    "\n",
    "if __name__ == '__main__':\n",
    "    from werkzeug.serving import run_simple\n",
    "    run_simple('localhost', 9000, app)"
   ]
  },
  {
   "cell_type": "code",
   "execution_count": null,
   "metadata": {},
   "outputs": [],
   "source": []
  }
 ],
 "metadata": {
  "kernelspec": {
   "display_name": "Python 3",
   "language": "python",
   "name": "python3"
  },
  "language_info": {
   "codemirror_mode": {
    "name": "ipython",
    "version": 3
   },
   "file_extension": ".py",
   "mimetype": "text/x-python",
   "name": "python",
   "nbconvert_exporter": "python",
   "pygments_lexer": "ipython3",
   "version": "3.6.7"
  }
 },
 "nbformat": 4,
 "nbformat_minor": 2
}
