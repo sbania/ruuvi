{
 "cells": [
  {
   "cell_type": "code",
   "execution_count": null,
   "metadata": {},
   "outputs": [],
   "source": [
    "#|!pip install ruuvitag_sensor"
   ]
  },
  {
   "cell_type": "code",
   "execution_count": 1,
   "metadata": {},
   "outputs": [],
   "source": [
    "from ruuvitag_sensor.ruuvi import RuuviTagSensor, RunFlag\n",
    "import requests\n",
    "import pandas as pd\n",
    "import os\n",
    "import time"
   ]
  },
  {
   "cell_type": "code",
   "execution_count": 24,
   "metadata": {},
   "outputs": [
    {
     "data": {
      "text/plain": [
       "{'DU:MM:YD:AT:A9:3D': {'data_format': 2,\n",
       "  'temperature': 24.0,\n",
       "  'humidity': 30.0,\n",
       "  'pressure': 995.0,\n",
       "  'identifier': None},\n",
       " 'NO:TS:UP:PO:RT:ED': {'data_format': 2,\n",
       "  'temperature': 24.0,\n",
       "  'humidity': 30.0,\n",
       "  'pressure': 995.0,\n",
       "  'identifier': None}}"
      ]
     },
     "execution_count": 24,
     "metadata": {},
     "output_type": "execute_result"
    }
   ],
   "source": [
    "# Find the sensor\n",
    "RuuviTagSensor.find_ruuvitags()"
   ]
  },
  {
   "cell_type": "code",
   "execution_count": 18,
   "metadata": {},
   "outputs": [
    {
     "name": "stdout",
     "output_type": "stream",
     "text": [
      "MAC DU:MM:YD:AT:A9:3D\n",
      "{'data_format': 2, 'temperature': 24.0, 'humidity': 30.0, 'pressure': 995.0, 'identifier': None}\n",
      "<Response [200]>\n"
     ]
    }
   ],
   "source": [
    "counter = 10\n",
    "# RunFlag for stopping execution at desired time\n",
    "run_flag = RunFlag()\n",
    "\n",
    "def handle_data(found_data):\n",
    "    print('MAC ' + found_data[0])\n",
    "    print(found_data[1])\n",
    "    datos = {'temperature':found_data[1]['temperature'],\n",
    "             'pressure':found_data[1]['pressure']}\n",
    "    respuesta = requests.post('http://localhost:9000/registrar', data = datos)   \n",
    "    print (respuesta)\n",
    "    global counter\n",
    "    counter = counter - 1\n",
    "    if counter < 0:\n",
    "        run_flag.running = False\n",
    "\n",
    "# List of macs of sensors which will execute callback function\n",
    "macs = ['DU:MM:YD:AT:A9:3D']\n",
    "\n",
    "RuuviTagSensor.get_datas(handle_data, macs, run_flag)"
   ]
  },
  {
   "cell_type": "code",
   "execution_count": null,
   "metadata": {},
   "outputs": [],
   "source": [
    "# Verificamos que el serivico esta activo!\n",
    "api_servicio = 'http://localhost:9000/'\n",
    "respuesta = requests.get(api_servicio)\n",
    "print (respuesta.text)"
   ]
  },
  {
   "cell_type": "code",
   "execution_count": null,
   "metadata": {},
   "outputs": [],
   "source": [
    "for x in range(0, 50):\n",
    "    RuuviTagSensor.get_datas(handle_data, macs, run_flag)\n",
    "    time.sleep(10)"
   ]
  },
  {
   "cell_type": "code",
   "execution_count": null,
   "metadata": {},
   "outputs": [],
   "source": [
    "dfDatos = pd.read_csv('http://localhost:9000/data/datos.csv')\n",
    "dfDatos"
   ]
  },
  {
   "cell_type": "code",
   "execution_count": 23,
   "metadata": {},
   "outputs": [
    {
     "ename": "AttributeError",
     "evalue": "'list' object has no attribute 'lower'",
     "output_type": "error",
     "traceback": [
      "\u001b[1;31m---------------------------------------------------------------------------\u001b[0m",
      "\u001b[1;31mAttributeError\u001b[0m                            Traceback (most recent call last)",
      "\u001b[1;32m<ipython-input-23-807c65fbdbb9>\u001b[0m in \u001b[0;36m<module>\u001b[1;34m\u001b[0m\n\u001b[0;32m      1\u001b[0m \u001b[1;32mfrom\u001b[0m \u001b[0mruuvitag_sensor\u001b[0m\u001b[1;33m.\u001b[0m\u001b[0mruuvitag\u001b[0m \u001b[1;32mimport\u001b[0m \u001b[0mRuuviTag\u001b[0m\u001b[1;33m\u001b[0m\u001b[1;33m\u001b[0m\u001b[0m\n\u001b[0;32m      2\u001b[0m \u001b[1;33m\u001b[0m\u001b[0m\n\u001b[1;32m----> 3\u001b[1;33m \u001b[0msensor\u001b[0m \u001b[1;33m=\u001b[0m \u001b[0mRuuviTag\u001b[0m\u001b[1;33m(\u001b[0m\u001b[1;33m[\u001b[0m\u001b[1;34m'NO:TS:UP:PO:RT:ED'\u001b[0m\u001b[1;33m]\u001b[0m\u001b[1;33m)\u001b[0m\u001b[1;33m\u001b[0m\u001b[1;33m\u001b[0m\u001b[0m\n\u001b[0m\u001b[0;32m      4\u001b[0m \u001b[1;33m\u001b[0m\u001b[0m\n\u001b[0;32m      5\u001b[0m \u001b[1;31m# update state from the device\u001b[0m\u001b[1;33m\u001b[0m\u001b[1;33m\u001b[0m\u001b[1;33m\u001b[0m\u001b[0m\n",
      "\u001b[1;32m~\\AppData\\Local\\Continuum\\anaconda3\\lib\\site-packages\\ruuvitag_sensor\\ruuvitag.py\u001b[0m in \u001b[0;36m__init__\u001b[1;34m(self, mac, bt_device)\u001b[0m\n\u001b[0;32m     14\u001b[0m     \u001b[1;32mdef\u001b[0m \u001b[0m__init__\u001b[0m\u001b[1;33m(\u001b[0m\u001b[0mself\u001b[0m\u001b[1;33m,\u001b[0m \u001b[0mmac\u001b[0m\u001b[1;33m,\u001b[0m \u001b[0mbt_device\u001b[0m\u001b[1;33m=\u001b[0m\u001b[1;34m''\u001b[0m\u001b[1;33m)\u001b[0m\u001b[1;33m:\u001b[0m\u001b[1;33m\u001b[0m\u001b[1;33m\u001b[0m\u001b[0m\n\u001b[0;32m     15\u001b[0m \u001b[1;33m\u001b[0m\u001b[0m\n\u001b[1;32m---> 16\u001b[1;33m         \u001b[1;32mif\u001b[0m \u001b[1;32mnot\u001b[0m \u001b[0mre\u001b[0m\u001b[1;33m.\u001b[0m\u001b[0mmatch\u001b[0m\u001b[1;33m(\u001b[0m\u001b[0mmac_regex\u001b[0m\u001b[1;33m,\u001b[0m \u001b[0mmac\u001b[0m\u001b[1;33m.\u001b[0m\u001b[0mlower\u001b[0m\u001b[1;33m(\u001b[0m\u001b[1;33m)\u001b[0m\u001b[1;33m)\u001b[0m\u001b[1;33m:\u001b[0m\u001b[1;33m\u001b[0m\u001b[1;33m\u001b[0m\u001b[0m\n\u001b[0m\u001b[0;32m     17\u001b[0m             \u001b[1;32mraise\u001b[0m \u001b[0mValueError\u001b[0m\u001b[1;33m(\u001b[0m\u001b[1;34m'{} is not valid mac address'\u001b[0m\u001b[1;33m.\u001b[0m\u001b[0mformat\u001b[0m\u001b[1;33m(\u001b[0m\u001b[0mmac\u001b[0m\u001b[1;33m)\u001b[0m\u001b[1;33m)\u001b[0m\u001b[1;33m\u001b[0m\u001b[1;33m\u001b[0m\u001b[0m\n\u001b[0;32m     18\u001b[0m \u001b[1;33m\u001b[0m\u001b[0m\n",
      "\u001b[1;31mAttributeError\u001b[0m: 'list' object has no attribute 'lower'"
     ]
    }
   ],
   "source": [
    "from ruuvitag_sensor.ruuvitag import RuuviTag\n",
    "\n",
    "sensor = RuuviTag(['27:6D:C9:36:39:18'])\n",
    "\n",
    "# update state from the device\n",
    "state = sensor.update()\n",
    "\n",
    "# get latest state (does not get it from the device)\n",
    "state = sensor.state\n",
    "\n",
    "print(state)"
   ]
  },
  {
   "cell_type": "code",
   "execution_count": null,
   "metadata": {},
   "outputs": [],
   "source": []
  }
 ],
 "metadata": {
  "kernelspec": {
   "display_name": "Python 3",
   "language": "python",
   "name": "python3"
  },
  "language_info": {
   "codemirror_mode": {
    "name": "ipython",
    "version": 3
   },
   "file_extension": ".py",
   "mimetype": "text/x-python",
   "name": "python",
   "nbconvert_exporter": "python",
   "pygments_lexer": "ipython3",
   "version": "3.6.7"
  }
 },
 "nbformat": 4,
 "nbformat_minor": 2
}
